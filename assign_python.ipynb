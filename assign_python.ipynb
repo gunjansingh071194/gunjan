{
  "nbformat": 4,
  "nbformat_minor": 0,
  "metadata": {
    "colab": {
      "provenance": []
    },
    "kernelspec": {
      "name": "python3",
      "display_name": "Python 3"
    },
    "language_info": {
      "name": "python"
    }
  },
  "cells": [
    {
      "cell_type": "code",
      "execution_count": null,
      "metadata": {
        "id": "l59FxoAq8US_"
      },
      "outputs": [],
      "source": [
        "1-What is python &why is it popular ?\n",
        "Ans-python is a high level ,object oriented ,general purpose programming language known for its readability and versatility.\n",
        "    python is a popular program lanuguage .It was created by Guido Van Rossum and released in 20 feb 1991 .\n",
        "    Its widely used in various field like Web Development ,Data Analysis,Machine learing and more..\n",
        "    Its widely used in various field like Web Development ,Data Analysis,Machine learing and more.."
      ]
    },
    {
      "cell_type": "markdown",
      "source": [],
      "metadata": {
        "id": "q6ViEGJCUbM_"
      }
    },
    {
      "cell_type": "code",
      "source": [
        "2-What is an interpreter in python?\n",
        "Ans-An interpreter is a program that reads and execute python code line by line .Interpreter reads the code ,analyzes it,and then execute each line sequentially."
      ],
      "metadata": {
        "id": "DtLsuhZjfHJk"
      },
      "execution_count": null,
      "outputs": []
    },
    {
      "cell_type": "code",
      "source": [
        "3-What are predefine keywords in python ?\n",
        "Ans-python has a set of keywords that are reserved words that cannot be used as variable names or function names.or any other identifiers.\n",
        "    Keywords like---and,as,assert,break,class,continue,def,del,elif,else,except,finally,for,from,global,if,import,in,is,lambda,nonlocal,not,or,pass,raise,return,try,while,yield"
      ],
      "metadata": {
        "id": "yOS9ZgO8fIFW"
      },
      "execution_count": null,
      "outputs": []
    },
    {
      "cell_type": "code",
      "source": [
        "4-Can keywords be used as a variable names?\n",
        "Ans-No,keywords cannot be used as variable names in python .\n",
        "   Python are reserved words that have specific meaning in the python language ,and using them as variable names would causes a syntax error."
      ],
      "metadata": {
        "id": "cNYoV82ZEgKw"
      },
      "execution_count": null,
      "outputs": []
    },
    {
      "cell_type": "code",
      "source": [
        "5-What is mutability in python ?\n",
        "Ans- In python,mutability refers to an objects ability to be modified after its created.\n",
        "     A mutable object can have its state or value changed in place ,without creating a new object ."
      ],
      "metadata": {
        "id": "pzIz2MeHGDnm"
      },
      "execution_count": null,
      "outputs": []
    },
    {
      "cell_type": "code",
      "source": [
        "6-Why are lists mutable ,but tuples are immutable?\n",
        " Ans-lists can be modified ,meaning their elements can be changed ,added or removed after creation .\n",
        "     Tuples can not be modified after creation .Any attempt to change an element will result in an error."
      ],
      "metadata": {
        "id": "t2zYejCvGc2k"
      },
      "execution_count": null,
      "outputs": []
    },
    {
      "cell_type": "code",
      "source": [
        "7-What are the difference between ''==''and ''is''operation in python\n",
        "Ans- ''==\"\"Equality operator checks for the equality of values ,not object identity.Compare the value of two objects .It returns true if the value are equal and false otherwise .\n",
        "      ''is\"Identity Operator used to check if two variable point to the same object in memory .if they do ,the expression x is y returns True.Otherwise ,it returns False.\n",
        "      it does not compare the values ,just whether they point to the same object.s"
      ],
      "metadata": {
        "id": "XF0ni9fPD-Sd"
      },
      "execution_count": null,
      "outputs": []
    },
    {
      "cell_type": "code",
      "source": [
        "8-What are logical operator in python ?\n",
        "Ans-Logical operator in python are used to combine or modify boolean expressions (True or False).\n",
        "    There are three main logical operator and ,or,not.\n",
        "    and--return True if both operands are True,otherwise return False.\n",
        "    or--return True if at least one of the operands is True .Otherwise returns False .\n",
        "    not--returns True if the operand is False and false if the operand is True ."
      ],
      "metadata": {
        "id": "Su4I_Cr9fNry"
      },
      "execution_count": null,
      "outputs": []
    },
    {
      "cell_type": "code",
      "source": [
        "9-What is type casting in python ?\n",
        "Ans-Type casting in python is the process of converting a variable from one data type to another .\n",
        "    This is useful when you need to perform operations that require variables of a specific data type or when you want to represent data in different format."
      ],
      "metadata": {
        "id": "rmVS_hT2g8LX"
      },
      "execution_count": null,
      "outputs": []
    },
    {
      "cell_type": "code",
      "source": [
        "10-What is the difference between implicit and explicit type casting?\n",
        "Ans-Implicit type casting also known as widening .In this method Python converts the datatype in to another data type automatically.\n",
        "    Users do'nt have to involve in this process.\n",
        "    Explicit type casting python needs user involvement to convert the variable data type in to the required data type."
      ],
      "metadata": {
        "id": "BFjjdviBiT-o"
      },
      "execution_count": null,
      "outputs": []
    },
    {
      "cell_type": "code",
      "source": [
        "11-What is the purpose of conditional statement in python ?\n",
        "Ans- Conditional statement in python are used to eecute certain blocks of code based on specific  conditions.\n",
        "     These statements help control the flow of a program ,making it behave differently in different situation.\n",
        "     Conditional statement --If,If else,elif ,Nested if ..else,,Ternary ,,Match -case."
      ],
      "metadata": {
        "colab": {
          "base_uri": "https://localhost:8080/",
          "height": 106
        },
        "id": "yK-AFFTKW12P",
        "outputId": "e63acc19-4158-41f7-a1b2-eb2be113aa6b",
        "collapsed": true
      },
      "execution_count": null,
      "outputs": [
        {
          "output_type": "error",
          "ename": "SyntaxError",
          "evalue": "invalid syntax (<ipython-input-5-c9d76503892d>, line 1)",
          "traceback": [
            "\u001b[0;36m  File \u001b[0;32m\"<ipython-input-5-c9d76503892d>\"\u001b[0;36m, line \u001b[0;32m1\u001b[0m\n\u001b[0;31m    11-What is the purpose of conditional statement in python ?\u001b[0m\n\u001b[0m                   ^\u001b[0m\n\u001b[0;31mSyntaxError\u001b[0m\u001b[0;31m:\u001b[0m invalid syntax\n"
          ]
        }
      ]
    },
    {
      "cell_type": "code",
      "source": [
        "12-How does the elif statement work ?\n",
        " Ans-The 'elif'keyword in python ,standsfor \"else if\".It can be used in conditional statement to check for multiple conditions.\n",
        " For Example-if the first condition is false ,it moves on to the next ''elif\"statement to check if that condition is true."
      ],
      "metadata": {
        "id": "RUx37-WSW29v"
      },
      "execution_count": null,
      "outputs": []
    },
    {
      "cell_type": "code",
      "source": [
        "13-What is the difference between for and while loops?\n",
        "Ans-For loop is used to iterate over a sequence of items such as a python tuple,list,string,or range.For loop are designed for iterating over a sequence of items.\n",
        "    While loop is used to repeatedly execute a block of statements while a condition is true.The loop will continue to run as long as the condition remains true."
      ],
      "metadata": {
        "id": "MFKJ2_nPW4SW"
      },
      "execution_count": null,
      "outputs": []
    },
    {
      "cell_type": "code",
      "source": [
        "14-Describe a scenario where a while loop is more suitable than a for loop\n",
        "Ans-A while loop is more suitable than a for loop when the number of iterations is not known in advance ."
      ],
      "metadata": {
        "id": "JnJbLmChW5Rh"
      },
      "execution_count": null,
      "outputs": []
    },
    {
      "cell_type": "markdown",
      "source": [
        "**PRACTICAL QUESTION **"
      ],
      "metadata": {
        "id": "szpeO0hhW5X6"
      }
    },
    {
      "cell_type": "code",
      "source": [
        "# Write a python program to print hello world!\n",
        "print(\"hello world!\")"
      ],
      "metadata": {
        "id": "wipJTFVibfiW",
        "colab": {
          "base_uri": "https://localhost:8080/"
        },
        "outputId": "59d97abd-7921-41cd-dc82-be7880bcfe32"
      },
      "execution_count": 23,
      "outputs": [
        {
          "output_type": "stream",
          "name": "stdout",
          "text": [
            "hello world!\n"
          ]
        }
      ]
    },
    {
      "cell_type": "code",
      "source": [
        "# 2-Write a python program that display your name and age .\n",
        "name=input(\"what is your name: \")\n",
        "age=input(\"how old are you:\")\n",
        "print(f\"your name is {name} and your age is {age}\")\n"
      ],
      "metadata": {
        "id": "qbTLMWqEPpMf",
        "colab": {
          "base_uri": "https://localhost:8080/"
        },
        "outputId": "e65ddd37-fe43-4f44-b41d-4b5a5ff2c7b5"
      },
      "execution_count": 17,
      "outputs": [
        {
          "output_type": "stream",
          "name": "stdout",
          "text": [
            "what is your name: gunjan\n",
            "how old are you:30\n",
            "your name is gunjan and your age is 30\n"
          ]
        }
      ]
    },
    {
      "cell_type": "markdown",
      "source": [],
      "metadata": {
        "id": "l12ngLD_SSht"
      }
    },
    {
      "cell_type": "code",
      "source": [
        "#  3-write code to print all the pre define keywords in python using the keyword library.\n",
        "import keyword\n",
        "print(keyword.kwlist)"
      ],
      "metadata": {
        "id": "jCDXBugpf3XK",
        "colab": {
          "base_uri": "https://localhost:8080/"
        },
        "outputId": "3f375a5a-a962-453c-c5bd-ce85e481c74d"
      },
      "execution_count": null,
      "outputs": [
        {
          "output_type": "stream",
          "name": "stdout",
          "text": [
            "['False', 'None', 'True', 'and', 'as', 'assert', 'async', 'await', 'break', 'class', 'continue', 'def', 'del', 'elif', 'else', 'except', 'finally', 'for', 'from', 'global', 'if', 'import', 'in', 'is', 'lambda', 'nonlocal', 'not', 'or', 'pass', 'raise', 'return', 'try', 'while', 'with', 'yield']\n"
          ]
        }
      ]
    },
    {
      "cell_type": "code",
      "source": [
        "#  What a program that checks if a given words is a python keyword.\n",
        "import keyword\n",
        "word=input(\"enter a word:\")\n",
        "if keyword.iskeyword(word):\n",
        "    print(f\"{word} is a python keyword.\")\n",
        "else:\n",
        "    print(f\"{word} is not a python keyword.\")\n",
        "\n"
      ],
      "metadata": {
        "id": "2l2-c6LAU5DL",
        "colab": {
          "base_uri": "https://localhost:8080/"
        },
        "outputId": "106bcd35-61e5-4499-9954-82084a5523e0"
      },
      "execution_count": 18,
      "outputs": [
        {
          "output_type": "stream",
          "name": "stdout",
          "text": [
            "enter a word:class\n",
            "class is a python keyword.\n"
          ]
        }
      ]
    },
    {
      "cell_type": "code",
      "source": [
        "# Create a list and tuple in python ,and demonstrate how attempt to change an elements works differetly for each.\n",
        "my _tuple (1,2,3)\n",
        "my_list=[1,2,3]\n",
        "my_tuple[0]=4\n",
        "my_list[0]=4\n",
        "print(my_tuple)\n",
        "print(my_list)\n"
      ],
      "metadata": {
        "colab": {
          "base_uri": "https://localhost:8080/",
          "height": 106
        },
        "collapsed": true,
        "id": "tmWrunTsXCx5",
        "outputId": "2a780da7-e165-42dc-d9e5-f8e5410277e0"
      },
      "execution_count": null,
      "outputs": [
        {
          "output_type": "error",
          "ename": "SyntaxError",
          "evalue": "invalid syntax (<ipython-input-9-386fcf1034da>, line 2)",
          "traceback": [
            "\u001b[0;36m  File \u001b[0;32m\"<ipython-input-9-386fcf1034da>\"\u001b[0;36m, line \u001b[0;32m2\u001b[0m\n\u001b[0;31m    my _tuple (1,2,3)\u001b[0m\n\u001b[0m       ^\u001b[0m\n\u001b[0;31mSyntaxError\u001b[0m\u001b[0;31m:\u001b[0m invalid syntax\n"
          ]
        }
      ]
    },
    {
      "cell_type": "code",
      "source": [
        "# Write a function to demonstrate the behaviour of mutable and immutable arguments.\n",
        "def change_list(my_list):\n",
        "    my_list.append(4)\n",
        "my_list=[1,2,3]\n",
        "change_list(my_list)\n",
        "print(my_list)"
      ],
      "metadata": {
        "colab": {
          "base_uri": "https://localhost:8080/"
        },
        "id": "A_CvsZIIaPyr",
        "outputId": "69d4a757-3351-466e-9468-e3caa7b5de9a"
      },
      "execution_count": null,
      "outputs": [
        {
          "output_type": "stream",
          "name": "stdout",
          "text": [
            "[1, 2, 3, 4]\n"
          ]
        }
      ]
    },
    {
      "cell_type": "markdown",
      "source": [],
      "metadata": {
        "id": "miHUH4K3XB4C"
      }
    },
    {
      "cell_type": "code",
      "source": [
        "# Write a program that perform basic arithmetic operations on two users -input numbers.\n",
        "num1=float(input(\"enter the first number:\"))\n",
        "num2=float(input(\"enter the second number:\"))\n",
        "addition=num1+num2\n",
        "subtraction=num1-num2\n",
        "multiplication=num1*num2\n",
        "division=num1/num2\n",
        "print(f\"addition:{addition}\")\n",
        "print(f\"subtraction:{subtraction}\")\n",
        "print(f\"multiplication:{multiplication}\")\n",
        "print(f\"division:{division}\")\n"
      ],
      "metadata": {
        "colab": {
          "base_uri": "https://localhost:8080/"
        },
        "id": "XsWeKoDSa5Ci",
        "outputId": "f05084e4-39ed-4fca-a7fd-3eec5e64585d"
      },
      "execution_count": null,
      "outputs": [
        {
          "output_type": "stream",
          "name": "stdout",
          "text": [
            "enter the first number:2\n",
            "enter the second number:3\n",
            "addition:5.0\n",
            "subtraction:-1.0\n",
            "multiplication:6.0\n",
            "division:0.6666666666666666\n"
          ]
        }
      ]
    },
    {
      "cell_type": "code",
      "source": [
        "# Write a program to demonstrate the use of logical operator.\n",
        "a=True\n",
        "b=False\n",
        "print(a and b)\n",
        "print(a or b)\n",
        "print(not a)\n"
      ],
      "metadata": {
        "id": "FrnvD8AEbchh",
        "colab": {
          "base_uri": "https://localhost:8080/"
        },
        "outputId": "2e0fc945-eb31-441f-8e32-91d68dfd047c"
      },
      "execution_count": 19,
      "outputs": [
        {
          "output_type": "stream",
          "name": "stdout",
          "text": [
            "False\n",
            "True\n",
            "False\n"
          ]
        }
      ]
    },
    {
      "cell_type": "code",
      "source": [
        "# Write a python program to convert user input from string to integer,float,and boolean type.\n",
        "user_input=input(\"enter a value:\")\n",
        "integer_value=int(user_input)\n",
        "float_value=float(user_input)\n",
        "boolean_value=bool(user_input)\n"
      ],
      "metadata": {
        "colab": {
          "base_uri": "https://localhost:8080/"
        },
        "id": "K509PFkGoRod",
        "outputId": "a0af7659-17e9-46cb-db6f-e604bf43ac86"
      },
      "execution_count": null,
      "outputs": [
        {
          "name": "stdout",
          "output_type": "stream",
          "text": [
            "enter a value:5\n"
          ]
        }
      ]
    },
    {
      "cell_type": "code",
      "source": [
        "# write code to demonstrate type casting with list elements.\n",
        "my_list=[1,2,3]\n",
        "my_list[0]=4\n",
        "print(my_list)"
      ],
      "metadata": {
        "colab": {
          "base_uri": "https://localhost:8080/"
        },
        "id": "RejMt6W6pHc6",
        "outputId": "e0ceded5-c655-467d-8d93-d7b40cfd9260"
      },
      "execution_count": null,
      "outputs": [
        {
          "output_type": "stream",
          "name": "stdout",
          "text": [
            "[4, 2, 3]\n"
          ]
        }
      ]
    },
    {
      "cell_type": "code",
      "source": [
        "# Write a program that checks if a number is a positive,negative,zero.\n",
        "num=float(input(\"enter a number:\"))\n",
        "if num>0:\n",
        "    print(\"the number is positive.\")\n",
        "elif num<0:\n",
        "    print(\"the number is negative.\")\n",
        "else:\n",
        "    print(\"the number is zero.\")\n",
        "\n",
        "\n"
      ],
      "metadata": {
        "id": "MbLi74Oupui2",
        "colab": {
          "base_uri": "https://localhost:8080/"
        },
        "outputId": "2477ec55-9dea-4a40-d6f6-4c5a661e50bd"
      },
      "execution_count": 20,
      "outputs": [
        {
          "output_type": "stream",
          "name": "stdout",
          "text": [
            "enter a number:5\n",
            "the number is positive.\n"
          ]
        }
      ]
    },
    {
      "cell_type": "code",
      "source": [
        "# Write a for loop to print numbers from 1 to 10.\n",
        "\n",
        "for i in range(1,11):\n",
        "    print(i)\n"
      ],
      "metadata": {
        "colab": {
          "base_uri": "https://localhost:8080/"
        },
        "id": "6F6Khh-jqtsz",
        "outputId": "b141a0ca-07f6-46d7-d5d0-598987a739f3"
      },
      "execution_count": null,
      "outputs": [
        {
          "output_type": "stream",
          "name": "stdout",
          "text": [
            "1\n",
            "2\n",
            "3\n",
            "4\n",
            "5\n",
            "6\n",
            "7\n",
            "8\n",
            "9\n",
            "10\n"
          ]
        }
      ]
    },
    {
      "cell_type": "code",
      "source": [
        "# Write a python program to find the sum of all even number between 1 and 50.\n",
        "sum_even=0\n",
        "for num in range(2,51,2):\n",
        "    sum_even +=num\n",
        "print(\"sum of even numbers between 1 and 50:\",sum_even)\n",
        ""
      ],
      "metadata": {
        "id": "vB5g4kogseJP",
        "colab": {
          "base_uri": "https://localhost:8080/"
        },
        "outputId": "73862325-afed-4ab1-b354-7c2a516dcdb3"
      },
      "execution_count": 21,
      "outputs": [
        {
          "output_type": "stream",
          "name": "stdout",
          "text": [
            "sum of even numbers between 1 and 50: 650\n"
          ]
        }
      ]
    },
    {
      "cell_type": "code",
      "source": [
        "# Write a program to reverse a string using a while loop.\n",
        "input_str =\"hello\"\n",
        "reversed_str =\"\"\n",
        "index = len(input_str)-1\n",
        "while index >=0:\n",
        "  reversed_str +=input_str[index]\n",
        "  index -=1\n",
        "print(\"reversed string:\",reversed_str)"
      ],
      "metadata": {
        "colab": {
          "base_uri": "https://localhost:8080/"
        },
        "id": "0I8cqPxTa9bw",
        "outputId": "699daee7-1b2e-41f4-dfac-3a4efe25a230"
      },
      "execution_count": null,
      "outputs": [
        {
          "output_type": "stream",
          "name": "stdout",
          "text": [
            "reversed string: olleh\n"
          ]
        }
      ]
    },
    {
      "cell_type": "code",
      "source": [
        "# Write a python program to calculate the factorial of a number provided by the user using a while loop.\n",
        "num=int(input(\"enter a number:\"))\n",
        "factorial=1\n",
        "while num>0:\n",
        "    factorial *=num\n",
        "    num -=1\n",
        "print(\"factorial:\",factorial)\n"
      ],
      "metadata": {
        "id": "my8t6EKrcv68",
        "colab": {
          "base_uri": "https://localhost:8080/"
        },
        "outputId": "db9c8edc-9636-41e3-f856-911fe1ffb064"
      },
      "execution_count": 24,
      "outputs": [
        {
          "output_type": "stream",
          "name": "stdout",
          "text": [
            "enter a number:5\n",
            "factorial: 120\n"
          ]
        }
      ]
    }
  ]
}