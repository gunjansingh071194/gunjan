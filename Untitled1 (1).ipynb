{
  "nbformat": 4,
  "nbformat_minor": 0,
  "metadata": {
    "colab": {
      "provenance": []
    },
    "kernelspec": {
      "name": "python3",
      "display_name": "Python 3"
    },
    "language_info": {
      "name": "python"
    }
  },
  "cells": [
    {
      "cell_type": "code",
      "execution_count": null,
      "metadata": {
        "id": "l59FxoAq8US_"
      },
      "outputs": [],
      "source": [
        "1-What is python &why is it popular ?\n",
        "Ans-python is a high level ,object oriented ,general purpose programming language known for its readability and versatility.\n",
        "    python is a popular program lanuguage .It was created by Guido Van Rossum and released in 20 feb 1991 .\n",
        "    Its widely used in various field like Web Development ,Data Analysis,Machine learing and more.."
      ]
    },
    {
      "cell_type": "code",
      "source": [
        "2-"
      ],
      "metadata": {
        "id": "DtLsuhZjfHJk"
      },
      "execution_count": null,
      "outputs": []
    },
    {
      "cell_type": "code",
      "source": [],
      "metadata": {
        "id": "yOS9ZgO8fIFW"
      },
      "execution_count": null,
      "outputs": []
    }
  ]
}