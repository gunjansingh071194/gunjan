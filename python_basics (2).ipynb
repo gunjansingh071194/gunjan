{
  "nbformat": 4,
  "nbformat_minor": 0,
  "metadata": {
    "colab": {
      "provenance": []
    },
    "kernelspec": {
      "name": "python3",
      "display_name": "Python 3"
    },
    "language_info": {
      "name": "python"
    }
  },
  "cells": [
    {
      "cell_type": "code",
      "execution_count": null,
      "metadata": {
        "id": "l59FxoAq8US_"
      },
      "outputs": [],
      "source": [
        "1-What is python &why is it popular ?\n",
        "Ans-python is a high level ,object oriented ,general purpose programming language known for its readability and versatility.\n",
        "    python is a popular program lanuguage .It was created by Guido Van Rossum and released in 20 feb 1991 .\n",
        "    Its widely used in various field like Web Development ,Data Analysis,Machine learing and more..\n",
        "    Its widely used in various field like Web Development ,Data Analysis,Machine learing and more.."
      ]
    },
    {
      "cell_type": "code",
      "source": [
        "2-What is an interpreter in python?\n",
        "Ans-An interpreter is a program that reads and execute python code line by line .Interpreter reads the code ,analyzes it,and then execute each line sequentially."
      ],
      "metadata": {
        "id": "DtLsuhZjfHJk"
      },
      "execution_count": null,
      "outputs": []
    },
    {
      "cell_type": "code",
      "source": [
        "3-What are predefine keywords in python ?\n",
        "Ans-python has a set of keywords that are reserved words that cannot be used as variable names or function names.or any other identifiers.\n",
        "    Keywords like---and,as,assert,break,class,continue,def,del,elif,else,except,finally,for,from,global,if,import,in,is,lambda,nonlocal,not,or,pass,raise,return,try,while,yield"
      ],
      "metadata": {
        "id": "yOS9ZgO8fIFW"
      },
      "execution_count": null,
      "outputs": []
    },
    {
      "cell_type": "code",
      "source": [
        "4-Can keywords be used as a variable names?\n",
        "Ans-No,keywords cannot be used as variable names in python .\n",
        "   Python are reserved words that have specific meaning in the python language ,and using them as variable names would causes a syntax error."
      ],
      "metadata": {
        "id": "cNYoV82ZEgKw"
      },
      "execution_count": null,
      "outputs": []
    },
    {
      "cell_type": "code",
      "source": [
        "5-What is mutability in python ?\n",
        "Ans- In python,mutability refers to an objects ability to be modified after its created.\n",
        "     A mutable object can have its state or value changed in place ,without creating a new object ."
      ],
      "metadata": {
        "id": "pzIz2MeHGDnm"
      },
      "execution_count": null,
      "outputs": []
    },
    {
      "cell_type": "code",
      "source": [
        "6-Why are lists mutable ,but tuples are immutable?\n",
        " Ans-lists can be modified ,meaning their elements can be changed ,added or removed after creation .\n",
        "     Tuples can not be modified after creation .Any attempt to change an element will result in an error."
      ],
      "metadata": {
        "id": "t2zYejCvGc2k"
      },
      "execution_count": null,
      "outputs": []
    },
    {
      "cell_type": "code",
      "source": [
        "7-What are the difference between ''==''and ''is''operation in python\n",
        "Ans- ''==\"\"Equality operator checks for the equality of values ,not object identity.Compare the value of two objects .It returns true if the value are equal and false otherwise .\n",
        "      ''is\"Identity Operator used to check if two variable point to the same object in memory .if they do ,the expression x is y returns True.Otherwise ,it returns False.\n",
        "      it does not compare the values ,just whether they point to the same object.s"
      ],
      "metadata": {
        "id": "XF0ni9fPD-Sd"
      },
      "execution_count": null,
      "outputs": []
    },
    {
      "cell_type": "code",
      "source": [
        "8-What are logical operator in python ?\n",
        "Ans-Logical operator in python are used to combine or modify boolean expressions (True or False).\n",
        "    There are three main logical operator and ,or,not.\n",
        "    and--return True if both operands are True,otherwise return False.\n",
        "    or--return True if at least one of the operands is True .Otherwise returns False .\n",
        "    not--returns True if the operand is False and false if the operand is True ."
      ],
      "metadata": {
        "id": "Su4I_Cr9fNry"
      },
      "execution_count": null,
      "outputs": []
    },
    {
      "cell_type": "code",
      "source": [
        "9-What is type casting in python ?\n",
        "Ans-Type casting in python is the process of converting a variable from one data type to another .\n",
        "    This is useful when you need to perform operations that require variables of a specific data type or when you want to represent data in different format."
      ],
      "metadata": {
        "id": "rmVS_hT2g8LX",
        "colab": {
          "base_uri": "https://localhost:8080/",
          "height": 106
        },
        "outputId": "7265c796-a787-4075-ca41-a7f9044073c6"
      },
      "execution_count": null,
      "outputs": [
        {
          "output_type": "error",
          "ename": "SyntaxError",
          "evalue": "invalid syntax (<ipython-input-4-4f92a318102a>, line 1)",
          "traceback": [
            "\u001b[0;36m  File \u001b[0;32m\"<ipython-input-4-4f92a318102a>\"\u001b[0;36m, line \u001b[0;32m1\u001b[0m\n\u001b[0;31m    9-What is type casting in python ?\u001b[0m\n\u001b[0m                   ^\u001b[0m\n\u001b[0;31mSyntaxError\u001b[0m\u001b[0;31m:\u001b[0m invalid syntax\n"
          ]
        }
      ]
    },
    {
      "cell_type": "code",
      "source": [
        "10-What is the difference between implicit and explicit type casting?\n",
        "Ans-Implicit type casting also known as widening .In this method Python converts the datatype in to another data type automatically.\n",
        "    Users do'nt have to involve in this process.\n",
        "    Explicit type casting python needs user involvement to convert the variable data type in to the required data type."
      ],
      "metadata": {
        "id": "BFjjdviBiT-o"
      },
      "execution_count": null,
      "outputs": []
    },
    {
      "cell_type": "code",
      "source": [
        "11-What is the purpose of conditional statement in python ?\n",
        "Ans- Conditional statement in python are used to eecute certain blocks of code based on specific  conditions.\n",
        "     These statements help control the flow of a program ,making it behave differently in different situation.\n",
        "     Conditional statement --If,If else,elif ,Nested if ..else,,Ternary ,,Match -case."
      ],
      "metadata": {
        "colab": {
          "base_uri": "https://localhost:8080/",
          "height": 106
        },
        "id": "yK-AFFTKW12P",
        "outputId": "e63acc19-4158-41f7-a1b2-eb2be113aa6b",
        "collapsed": true
      },
      "execution_count": null,
      "outputs": [
        {
          "output_type": "error",
          "ename": "SyntaxError",
          "evalue": "invalid syntax (<ipython-input-5-c9d76503892d>, line 1)",
          "traceback": [
            "\u001b[0;36m  File \u001b[0;32m\"<ipython-input-5-c9d76503892d>\"\u001b[0;36m, line \u001b[0;32m1\u001b[0m\n\u001b[0;31m    11-What is the purpose of conditional statement in python ?\u001b[0m\n\u001b[0m                   ^\u001b[0m\n\u001b[0;31mSyntaxError\u001b[0m\u001b[0;31m:\u001b[0m invalid syntax\n"
          ]
        }
      ]
    },
    {
      "cell_type": "code",
      "source": [
        "12-How does the elif statement work ?\n",
        " Ans-The 'elif'keyword in python ,standsfor \"else if\".It can be used in conditional statement to check for multiple conditions.\n",
        " For Example-if the first condition is false ,it moves on to the next ''elif\"statement to check if that condition is true."
      ],
      "metadata": {
        "id": "RUx37-WSW29v"
      },
      "execution_count": null,
      "outputs": []
    },
    {
      "cell_type": "code",
      "source": [
        "13-What is the difference between for and while loops?\n",
        "Ans-For loop is used to iterate over a sequence of items such as a python tuple,list,string,or range.For loop are designed for iterating over a sequence of items.\n",
        "    While loop is used to repeatedly execute a block of statements while a condition is true.The loop will continue to run as long as the condition remains true."
      ],
      "metadata": {
        "id": "MFKJ2_nPW4SW"
      },
      "execution_count": null,
      "outputs": []
    },
    {
      "cell_type": "code",
      "source": [
        "14-Describe a scenario where a while loop is more suitable than a for loop\n",
        "Ans-A while loop is more suitable than a for loop when the number of iterations is not known in advance ."
      ],
      "metadata": {
        "id": "JnJbLmChW5Rh"
      },
      "execution_count": null,
      "outputs": []
    },
    {
      "cell_type": "markdown",
      "source": [
        "**PRACTICAL QUESTION **"
      ],
      "metadata": {
        "id": "szpeO0hhW5X6"
      }
    },
    {
      "cell_type": "code",
      "source": [
        "1-Print(''HELLP WO0RLD!)\n"
      ],
      "metadata": {
        "id": "wipJTFVibfiW",
        "colab": {
          "base_uri": "https://localhost:8080/"
        },
        "outputId": "e5214ea1-66b0-43a9-e7cf-5c8802521159"
      },
      "execution_count": 11,
      "outputs": [
        {
          "output_type": "stream",
          "name": "stdout",
          "text": [
            "Hello World\n"
          ]
        }
      ]
    },
    {
      "cell_type": "code",
      "source": [
        "# 2-Write a python program that display your name and age .\n",
        "name=input(\"what is your name: \")\n",
        "age=input(\"how old are you:\")\n",
        "print(f\"your name is {name} and your age is {age}\")\n"
      ],
      "metadata": {
        "id": "qbTLMWqEPpMf",
        "colab": {
          "base_uri": "https://localhost:8080/"
        },
        "collapsed": true,
        "outputId": "aa243572-4d7e-42e4-d692-6a59bfe4b869"
      },
      "execution_count": 7,
      "outputs": [
        {
          "output_type": "stream",
          "name": "stdout",
          "text": [
            "what is your name: gunjan\n",
            "how old are you:30\n",
            "your name is gunjan and your age is 30\n"
          ]
        }
      ]
    },
    {
      "cell_type": "code",
      "source": [
        "3-write code to print all the pre define keywords in python using the keyword library.\n"
      ],
      "metadata": {
        "id": "jCDXBugpf3XK"
      },
      "execution_count": null,
      "outputs": []
    }
  ]
}